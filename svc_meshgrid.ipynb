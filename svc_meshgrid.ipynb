{
 "cells": [
  {
   "cell_type": "code",
   "execution_count": 2,
   "id": "d96685ab",
   "metadata": {},
   "outputs": [
    {
     "data": {
      "text/html": [
       "<div>\n",
       "<style scoped>\n",
       "    .dataframe tbody tr th:only-of-type {\n",
       "        vertical-align: middle;\n",
       "    }\n",
       "\n",
       "    .dataframe tbody tr th {\n",
       "        vertical-align: top;\n",
       "    }\n",
       "\n",
       "    .dataframe thead th {\n",
       "        text-align: right;\n",
       "    }\n",
       "</style>\n",
       "<table border=\"1\" class=\"dataframe\">\n",
       "  <thead>\n",
       "    <tr style=\"text-align: right;\">\n",
       "      <th></th>\n",
       "      <th>Alcohol</th>\n",
       "      <th>Malic acid</th>\n",
       "      <th>Ash</th>\n",
       "      <th>Alcalinity of ash</th>\n",
       "      <th>Magnesium</th>\n",
       "      <th>Total phenols</th>\n",
       "      <th>Flavanoids</th>\n",
       "      <th>Nonflavanoid phenols</th>\n",
       "      <th>Proanthocyanins</th>\n",
       "      <th>Colour_Intensity</th>\n",
       "      <th>Hue</th>\n",
       "      <th>OD280/OD315 of diluted wines</th>\n",
       "      <th>Proline</th>\n",
       "      <th>Cultivar</th>\n",
       "    </tr>\n",
       "  </thead>\n",
       "  <tbody>\n",
       "    <tr>\n",
       "      <th>0</th>\n",
       "      <td>1</td>\n",
       "      <td>14.23</td>\n",
       "      <td>1.71</td>\n",
       "      <td>2.43</td>\n",
       "      <td>15.6</td>\n",
       "      <td>127</td>\n",
       "      <td>2.80</td>\n",
       "      <td>3.06</td>\n",
       "      <td>0.28</td>\n",
       "      <td>2.29</td>\n",
       "      <td>5.64</td>\n",
       "      <td>1.04</td>\n",
       "      <td>3.92</td>\n",
       "      <td>1065</td>\n",
       "    </tr>\n",
       "    <tr>\n",
       "      <th>1</th>\n",
       "      <td>1</td>\n",
       "      <td>13.20</td>\n",
       "      <td>1.78</td>\n",
       "      <td>2.14</td>\n",
       "      <td>11.2</td>\n",
       "      <td>100</td>\n",
       "      <td>2.65</td>\n",
       "      <td>2.76</td>\n",
       "      <td>0.26</td>\n",
       "      <td>1.28</td>\n",
       "      <td>4.38</td>\n",
       "      <td>1.05</td>\n",
       "      <td>3.40</td>\n",
       "      <td>1050</td>\n",
       "    </tr>\n",
       "    <tr>\n",
       "      <th>2</th>\n",
       "      <td>1</td>\n",
       "      <td>13.16</td>\n",
       "      <td>2.36</td>\n",
       "      <td>2.67</td>\n",
       "      <td>18.6</td>\n",
       "      <td>101</td>\n",
       "      <td>2.80</td>\n",
       "      <td>3.24</td>\n",
       "      <td>0.30</td>\n",
       "      <td>2.81</td>\n",
       "      <td>5.68</td>\n",
       "      <td>1.03</td>\n",
       "      <td>3.17</td>\n",
       "      <td>1185</td>\n",
       "    </tr>\n",
       "    <tr>\n",
       "      <th>3</th>\n",
       "      <td>1</td>\n",
       "      <td>14.37</td>\n",
       "      <td>1.95</td>\n",
       "      <td>2.50</td>\n",
       "      <td>16.8</td>\n",
       "      <td>113</td>\n",
       "      <td>3.85</td>\n",
       "      <td>3.49</td>\n",
       "      <td>0.24</td>\n",
       "      <td>2.18</td>\n",
       "      <td>7.80</td>\n",
       "      <td>0.86</td>\n",
       "      <td>3.45</td>\n",
       "      <td>1480</td>\n",
       "    </tr>\n",
       "    <tr>\n",
       "      <th>4</th>\n",
       "      <td>1</td>\n",
       "      <td>13.24</td>\n",
       "      <td>2.59</td>\n",
       "      <td>2.87</td>\n",
       "      <td>21.0</td>\n",
       "      <td>118</td>\n",
       "      <td>2.80</td>\n",
       "      <td>2.69</td>\n",
       "      <td>0.39</td>\n",
       "      <td>1.82</td>\n",
       "      <td>4.32</td>\n",
       "      <td>1.04</td>\n",
       "      <td>2.93</td>\n",
       "      <td>735</td>\n",
       "    </tr>\n",
       "    <tr>\n",
       "      <th>...</th>\n",
       "      <td>...</td>\n",
       "      <td>...</td>\n",
       "      <td>...</td>\n",
       "      <td>...</td>\n",
       "      <td>...</td>\n",
       "      <td>...</td>\n",
       "      <td>...</td>\n",
       "      <td>...</td>\n",
       "      <td>...</td>\n",
       "      <td>...</td>\n",
       "      <td>...</td>\n",
       "      <td>...</td>\n",
       "      <td>...</td>\n",
       "      <td>...</td>\n",
       "    </tr>\n",
       "    <tr>\n",
       "      <th>173</th>\n",
       "      <td>3</td>\n",
       "      <td>13.71</td>\n",
       "      <td>5.65</td>\n",
       "      <td>2.45</td>\n",
       "      <td>20.5</td>\n",
       "      <td>95</td>\n",
       "      <td>1.68</td>\n",
       "      <td>0.61</td>\n",
       "      <td>0.52</td>\n",
       "      <td>1.06</td>\n",
       "      <td>7.70</td>\n",
       "      <td>0.64</td>\n",
       "      <td>1.74</td>\n",
       "      <td>740</td>\n",
       "    </tr>\n",
       "    <tr>\n",
       "      <th>174</th>\n",
       "      <td>3</td>\n",
       "      <td>13.40</td>\n",
       "      <td>3.91</td>\n",
       "      <td>2.48</td>\n",
       "      <td>23.0</td>\n",
       "      <td>102</td>\n",
       "      <td>1.80</td>\n",
       "      <td>0.75</td>\n",
       "      <td>0.43</td>\n",
       "      <td>1.41</td>\n",
       "      <td>7.30</td>\n",
       "      <td>0.70</td>\n",
       "      <td>1.56</td>\n",
       "      <td>750</td>\n",
       "    </tr>\n",
       "    <tr>\n",
       "      <th>175</th>\n",
       "      <td>3</td>\n",
       "      <td>13.27</td>\n",
       "      <td>4.28</td>\n",
       "      <td>2.26</td>\n",
       "      <td>20.0</td>\n",
       "      <td>120</td>\n",
       "      <td>1.59</td>\n",
       "      <td>0.69</td>\n",
       "      <td>0.43</td>\n",
       "      <td>1.35</td>\n",
       "      <td>10.20</td>\n",
       "      <td>0.59</td>\n",
       "      <td>1.56</td>\n",
       "      <td>835</td>\n",
       "    </tr>\n",
       "    <tr>\n",
       "      <th>176</th>\n",
       "      <td>3</td>\n",
       "      <td>13.17</td>\n",
       "      <td>2.59</td>\n",
       "      <td>2.37</td>\n",
       "      <td>20.0</td>\n",
       "      <td>120</td>\n",
       "      <td>1.65</td>\n",
       "      <td>0.68</td>\n",
       "      <td>0.53</td>\n",
       "      <td>1.46</td>\n",
       "      <td>9.30</td>\n",
       "      <td>0.60</td>\n",
       "      <td>1.62</td>\n",
       "      <td>840</td>\n",
       "    </tr>\n",
       "    <tr>\n",
       "      <th>177</th>\n",
       "      <td>3</td>\n",
       "      <td>14.13</td>\n",
       "      <td>4.10</td>\n",
       "      <td>2.74</td>\n",
       "      <td>24.5</td>\n",
       "      <td>96</td>\n",
       "      <td>2.05</td>\n",
       "      <td>0.76</td>\n",
       "      <td>0.56</td>\n",
       "      <td>1.35</td>\n",
       "      <td>9.20</td>\n",
       "      <td>0.61</td>\n",
       "      <td>1.60</td>\n",
       "      <td>560</td>\n",
       "    </tr>\n",
       "  </tbody>\n",
       "</table>\n",
       "<p>178 rows × 14 columns</p>\n",
       "</div>"
      ],
      "text/plain": [
       "     Alcohol  Malic acid   Ash  Alcalinity of ash  Magnesium  Total phenols  \\\n",
       "0          1       14.23  1.71               2.43       15.6            127   \n",
       "1          1       13.20  1.78               2.14       11.2            100   \n",
       "2          1       13.16  2.36               2.67       18.6            101   \n",
       "3          1       14.37  1.95               2.50       16.8            113   \n",
       "4          1       13.24  2.59               2.87       21.0            118   \n",
       "..       ...         ...   ...                ...        ...            ...   \n",
       "173        3       13.71  5.65               2.45       20.5             95   \n",
       "174        3       13.40  3.91               2.48       23.0            102   \n",
       "175        3       13.27  4.28               2.26       20.0            120   \n",
       "176        3       13.17  2.59               2.37       20.0            120   \n",
       "177        3       14.13  4.10               2.74       24.5             96   \n",
       "\n",
       "     Flavanoids  Nonflavanoid phenols  Proanthocyanins  Colour_Intensity  \\\n",
       "0          2.80                  3.06             0.28              2.29   \n",
       "1          2.65                  2.76             0.26              1.28   \n",
       "2          2.80                  3.24             0.30              2.81   \n",
       "3          3.85                  3.49             0.24              2.18   \n",
       "4          2.80                  2.69             0.39              1.82   \n",
       "..          ...                   ...              ...               ...   \n",
       "173        1.68                  0.61             0.52              1.06   \n",
       "174        1.80                  0.75             0.43              1.41   \n",
       "175        1.59                  0.69             0.43              1.35   \n",
       "176        1.65                  0.68             0.53              1.46   \n",
       "177        2.05                  0.76             0.56              1.35   \n",
       "\n",
       "       Hue  OD280/OD315 of diluted wines  Proline  Cultivar  \n",
       "0     5.64                          1.04     3.92      1065  \n",
       "1     4.38                          1.05     3.40      1050  \n",
       "2     5.68                          1.03     3.17      1185  \n",
       "3     7.80                          0.86     3.45      1480  \n",
       "4     4.32                          1.04     2.93       735  \n",
       "..     ...                           ...      ...       ...  \n",
       "173   7.70                          0.64     1.74       740  \n",
       "174   7.30                          0.70     1.56       750  \n",
       "175  10.20                          0.59     1.56       835  \n",
       "176   9.30                          0.60     1.62       840  \n",
       "177   9.20                          0.61     1.60       560  \n",
       "\n",
       "[178 rows x 14 columns]"
      ]
     },
     "execution_count": 2,
     "metadata": {},
     "output_type": "execute_result"
    }
   ],
   "source": [
    "import pandas as pd\n",
    "import numpy as np\n",
    "import matplotlib.pyplot as plt\n",
    "wine=pd.read_csv(r\"C:\\Users\\archa\\OneDrive\\Desktop\\Downloads\\Wine1 (1).data\")\n",
    "wine"
   ]
  },
  {
   "cell_type": "code",
   "execution_count": 3,
   "id": "1a032eae",
   "metadata": {},
   "outputs": [
    {
     "name": "stdout",
     "output_type": "stream",
     "text": [
      "[1 2 3]\n"
     ]
    }
   ],
   "source": [
    "print(wine['Alcohol'].unique())"
   ]
  },
  {
   "cell_type": "code",
   "execution_count": 4,
   "id": "01d847da",
   "metadata": {},
   "outputs": [
    {
     "data": {
      "text/plain": [
       "(178, 13)"
      ]
     },
     "execution_count": 4,
     "metadata": {},
     "output_type": "execute_result"
    }
   ],
   "source": [
    "x=wine.drop(['Alcohol'],axis=1).values\n",
    "x.shape"
   ]
  },
  {
   "cell_type": "code",
   "execution_count": 5,
   "id": "2b56a995",
   "metadata": {},
   "outputs": [
    {
     "data": {
      "text/plain": [
       "array([1, 1, 1, 1, 1, 1, 1, 1, 1, 1, 1, 1, 1, 1, 1, 1, 1, 1, 1, 1, 1, 1,\n",
       "       1, 1, 1, 1, 1, 1, 1, 1, 1, 1, 1, 1, 1, 1, 1, 1, 1, 1, 1, 1, 1, 1,\n",
       "       1, 1, 1, 1, 1, 1, 1, 1, 1, 1, 1, 1, 1, 1, 1, 2, 2, 2, 2, 2, 2, 2,\n",
       "       2, 2, 2, 2, 2, 2, 2, 2, 2, 2, 2, 2, 2, 2, 2, 2, 2, 2, 2, 2, 2, 2,\n",
       "       2, 2, 2, 2, 2, 2, 2, 2, 2, 2, 2, 2, 2, 2, 2, 2, 2, 2, 2, 2, 2, 2,\n",
       "       2, 2, 2, 2, 2, 2, 2, 2, 2, 2, 2, 2, 2, 2, 2, 2, 2, 2, 2, 2, 3, 3,\n",
       "       3, 3, 3, 3, 3, 3, 3, 3, 3, 3, 3, 3, 3, 3, 3, 3, 3, 3, 3, 3, 3, 3,\n",
       "       3, 3, 3, 3, 3, 3, 3, 3, 3, 3, 3, 3, 3, 3, 3, 3, 3, 3, 3, 3, 3, 3,\n",
       "       3, 3], dtype=int64)"
      ]
     },
     "execution_count": 5,
     "metadata": {},
     "output_type": "execute_result"
    }
   ],
   "source": [
    "y=wine['Alcohol'].values\n",
    "y"
   ]
  },
  {
   "cell_type": "code",
   "execution_count": 6,
   "id": "ccbc746c",
   "metadata": {},
   "outputs": [],
   "source": [
    "x1=wine[['Proline','Colour_Intensity']].values\n",
    "import sklearn.model_selection as ms\n",
    "xtrain,xtest,ytrain,ytest=ms.train_test_split(x1,y,test_size=0.3,random_state=22)"
   ]
  },
  {
   "cell_type": "code",
   "execution_count": 7,
   "id": "6f7a49db",
   "metadata": {},
   "outputs": [
    {
     "data": {
      "text/plain": [
       "array([0.5       , 0.57434918, 0.65975396, 0.75785828, 0.87055056,\n",
       "       1.        , 1.14869835, 1.31950791, 1.51571657, 1.74110113,\n",
       "       2.        ])"
      ]
     },
     "execution_count": 7,
     "metadata": {},
     "output_type": "execute_result"
    }
   ],
   "source": [
    "from sklearn import svm\n",
    "svmclassifier=svm.SVC()\n",
    "cval=2.**np.arange(-1,1.2,step=0.2)\n",
    "cval"
   ]
  },
  {
   "cell_type": "code",
   "execution_count": 8,
   "id": "be6fd0a6",
   "metadata": {},
   "outputs": [
    {
     "data": {
      "text/plain": [
       "1.319507910772894"
      ]
     },
     "execution_count": 8,
     "metadata": {},
     "output_type": "execute_result"
    }
   ],
   "source": [
    "n_grid=[{'C':cval}]\n",
    "from sklearn.model_selection import GridSearchCV\n",
    "cv_svc=GridSearchCV(estimator=svmclassifier,param_grid=n_grid,cv=ms.KFold(n_splits=100))\n",
    "cv_svc.fit(xtrain,ytrain)\n",
    "best_c=cv_svc.best_params_['C']\n",
    "best_c"
   ]
  },
  {
   "cell_type": "code",
   "execution_count": 10,
   "id": "caf71733",
   "metadata": {},
   "outputs": [
    {
     "ename": "NameError",
     "evalue": "name 'cv_clf' is not defined",
     "output_type": "error",
     "traceback": [
      "\u001b[1;31m---------------------------------------------------------------------------\u001b[0m",
      "\u001b[1;31mNameError\u001b[0m                                 Traceback (most recent call last)",
      "Cell \u001b[1;32mIn[10], line 2\u001b[0m\n\u001b[0;32m      1\u001b[0m cv_clfc\u001b[38;5;241m=\u001b[39msvm\u001b[38;5;241m.\u001b[39mSVC(C\u001b[38;5;241m=\u001b[39mbest_c)\n\u001b[1;32m----> 2\u001b[0m cv_clf\u001b[38;5;241m.\u001b[39mfit(xtrain,ytrain)\n",
      "\u001b[1;31mNameError\u001b[0m: name 'cv_clf' is not defined"
     ]
    }
   ],
   "source": [
    "cv_clfc=svm.SVC(C=best_c)\n",
    "cv_clf.fit(xtrain,ytrain)"
   ]
  },
  {
   "cell_type": "code",
   "execution_count": 11,
   "id": "edf9dfb9",
   "metadata": {},
   "outputs": [],
   "source": [
    "predict=cv_svc.predict(xtest)"
   ]
  },
  {
   "cell_type": "code",
   "execution_count": 12,
   "id": "56d5e762",
   "metadata": {},
   "outputs": [
    {
     "name": "stdout",
     "output_type": "stream",
     "text": [
      "              precision    recall  f1-score   support\n",
      "\n",
      "           1       0.62      0.62      0.62        16\n",
      "           2       0.62      0.53      0.57        19\n",
      "           3       0.86      1.00      0.93        19\n",
      "\n",
      "    accuracy                           0.72        54\n",
      "   macro avg       0.70      0.72      0.71        54\n",
      "weighted avg       0.71      0.72      0.71        54\n",
      "\n"
     ]
    }
   ],
   "source": [
    "from sklearn.metrics import classification_report\n",
    "print(classification_report(ytest,predict))"
   ]
  },
  {
   "cell_type": "code",
   "execution_count": 20,
   "id": "38328a26",
   "metadata": {},
   "outputs": [
    {
     "name": "stderr",
     "output_type": "stream",
     "text": [
      "C:\\Users\\archa\\anaconda3\\Lib\\site-packages\\sklearn\\svm\\_classes.py:32: FutureWarning: The default value of `dual` will change from `True` to `'auto'` in 1.5. Set the value of `dual` explicitly to suppress the warning.\n",
      "  warnings.warn(\n"
     ]
    }
   ],
   "source": [
    "svc=svm.SVC(kernel='linear',C=best_c).fit(xtrain,ytrain)\n",
    "svc_rbf=svm.SVC(kernel='rbf',C=best_c).fit(xtrain,ytrain)\n",
    "svc_poly=svm.SVC(kernel='poly',C=best_c,degree=3).fit(xtrain,ytrain)\n",
    "svc_lin=svm.LinearSVC(C=best_c).fit(xtrain,ytrain)"
   ]
  },
  {
   "cell_type": "code",
   "execution_count": 21,
   "id": "b799bb5f",
   "metadata": {},
   "outputs": [
    {
     "data": {
      "text/plain": [
       "array([[3.92, 2.29],\n",
       "       [3.4 , 1.28],\n",
       "       [3.17, 2.81],\n",
       "       [3.45, 2.18],\n",
       "       [2.93, 1.82],\n",
       "       [2.85, 1.97],\n",
       "       [3.58, 1.98],\n",
       "       [3.58, 1.25],\n",
       "       [2.85, 1.98],\n",
       "       [3.55, 1.85],\n",
       "       [3.17, 2.38],\n",
       "       [2.82, 1.57],\n",
       "       [2.9 , 1.81],\n",
       "       [2.73, 2.81],\n",
       "       [3.  , 2.96],\n",
       "       [2.88, 1.46],\n",
       "       [2.65, 1.97],\n",
       "       [2.57, 1.72],\n",
       "       [2.82, 1.86],\n",
       "       [3.36, 1.66],\n",
       "       [3.71, 2.1 ],\n",
       "       [3.52, 1.98],\n",
       "       [4.  , 1.69],\n",
       "       [3.63, 1.46],\n",
       "       [3.82, 1.66],\n",
       "       [3.2 , 1.92],\n",
       "       [3.22, 1.45],\n",
       "       [2.77, 1.35],\n",
       "       [3.4 , 1.76],\n",
       "       [3.59, 1.98],\n",
       "       [2.71, 2.38],\n",
       "       [2.88, 1.95],\n",
       "       [2.87, 1.97],\n",
       "       [3.  , 1.35],\n",
       "       [2.87, 1.54],\n",
       "       [3.47, 1.86],\n",
       "       [2.78, 1.36],\n",
       "       [2.51, 1.44],\n",
       "       [2.69, 1.37],\n",
       "       [3.53, 2.08],\n",
       "       [3.38, 2.34],\n",
       "       [3.  , 1.48],\n",
       "       [3.56, 1.7 ],\n",
       "       [3.  , 1.66],\n",
       "       [3.35, 2.03],\n",
       "       [3.33, 1.25],\n",
       "       [3.44, 2.19],\n",
       "       [3.33, 2.14],\n",
       "       [2.75, 2.38],\n",
       "       [3.1 , 2.08],\n",
       "       [2.91, 2.91],\n",
       "       [3.37, 2.29],\n",
       "       [3.26, 1.87],\n",
       "       [2.93, 1.68],\n",
       "       [3.2 , 1.62],\n",
       "       [3.03, 2.45],\n",
       "       [3.31, 2.03],\n",
       "       [2.84, 1.66],\n",
       "       [2.87, 2.04],\n",
       "       [1.82, 0.42],\n",
       "       [1.67, 0.41],\n",
       "       [1.59, 0.62],\n",
       "       [2.46, 0.73],\n",
       "       [2.87, 1.87],\n",
       "       [2.23, 1.03],\n",
       "       [2.3 , 2.08],\n",
       "       [3.18, 2.28],\n",
       "       [3.48, 1.04],\n",
       "       [1.93, 0.42],\n",
       "       [3.07, 2.5 ],\n",
       "       [1.82, 1.46],\n",
       "       [3.16, 1.87],\n",
       "       [2.78, 1.03],\n",
       "       [3.5 , 1.96],\n",
       "       [3.13, 1.65],\n",
       "       [2.14, 1.15],\n",
       "       [2.48, 1.46],\n",
       "       [2.52, 0.95],\n",
       "       [2.31, 2.76],\n",
       "       [3.13, 1.95],\n",
       "       [3.12, 1.43],\n",
       "       [3.14, 1.77],\n",
       "       [2.72, 1.4 ],\n",
       "       [2.01, 1.62],\n",
       "       [3.08, 2.35],\n",
       "       [3.16, 1.46],\n",
       "       [2.26, 1.56],\n",
       "       [3.21, 1.34],\n",
       "       [2.75, 1.35],\n",
       "       [3.21, 1.38],\n",
       "       [2.27, 1.64],\n",
       "       [2.65, 1.63],\n",
       "       [2.06, 1.62],\n",
       "       [3.3 , 1.99],\n",
       "       [2.96, 1.35],\n",
       "       [2.63, 3.28],\n",
       "       [2.26, 1.56],\n",
       "       [2.74, 1.77],\n",
       "       [2.77, 1.95],\n",
       "       [2.83, 2.81],\n",
       "       [2.96, 1.4 ],\n",
       "       [2.77, 1.35],\n",
       "       [3.38, 1.31],\n",
       "       [2.44, 1.42],\n",
       "       [3.57, 1.48],\n",
       "       [3.3 , 1.42],\n",
       "       [3.17, 1.63],\n",
       "       [2.42, 1.63],\n",
       "       [3.02, 2.08],\n",
       "       [3.26, 2.49],\n",
       "       [2.81, 3.58],\n",
       "       [2.78, 1.22],\n",
       "       [2.5 , 1.05],\n",
       "       [2.31, 1.44],\n",
       "       [3.19, 1.04],\n",
       "       [2.87, 2.01],\n",
       "       [3.33, 1.53],\n",
       "       [2.96, 1.61],\n",
       "       [2.12, 0.83],\n",
       "       [3.05, 1.87],\n",
       "       [3.39, 1.83],\n",
       "       [3.69, 1.87],\n",
       "       [3.12, 1.71],\n",
       "       [3.1 , 2.01],\n",
       "       [3.64, 2.91],\n",
       "       [3.28, 1.35],\n",
       "       [2.84, 1.77],\n",
       "       [2.44, 1.76],\n",
       "       [2.78, 1.9 ],\n",
       "       [2.57, 1.35],\n",
       "       [1.29, 0.94],\n",
       "       [1.42, 0.83],\n",
       "       [1.36, 0.83],\n",
       "       [1.29, 0.84],\n",
       "       [1.51, 1.25],\n",
       "       [1.58, 0.94],\n",
       "       [1.27, 0.8 ],\n",
       "       [1.69, 1.1 ],\n",
       "       [1.82, 0.88],\n",
       "       [2.15, 0.81],\n",
       "       [2.31, 0.75],\n",
       "       [2.47, 0.64],\n",
       "       [2.06, 0.55],\n",
       "       [2.05, 1.02],\n",
       "       [2.  , 1.14],\n",
       "       [1.68, 1.3 ],\n",
       "       [1.33, 0.68],\n",
       "       [1.86, 0.86],\n",
       "       [1.62, 1.25],\n",
       "       [1.33, 1.14],\n",
       "       [1.3 , 1.25],\n",
       "       [1.47, 1.26],\n",
       "       [1.33, 1.56],\n",
       "       [1.51, 1.87],\n",
       "       [1.55, 1.4 ],\n",
       "       [1.48, 1.55],\n",
       "       [1.64, 1.56],\n",
       "       [1.73, 1.14],\n",
       "       [1.96, 2.7 ],\n",
       "       [1.78, 2.29],\n",
       "       [1.58, 1.04],\n",
       "       [1.82, 0.8 ],\n",
       "       [2.11, 0.96],\n",
       "       [1.75, 0.94],\n",
       "       [1.68, 1.03],\n",
       "       [1.75, 1.15],\n",
       "       [1.56, 1.46],\n",
       "       [1.75, 0.97],\n",
       "       [1.8 , 1.54],\n",
       "       [1.92, 1.11],\n",
       "       [1.83, 0.73],\n",
       "       [1.63, 0.64],\n",
       "       [1.71, 1.24],\n",
       "       [1.74, 1.06],\n",
       "       [1.56, 1.41],\n",
       "       [1.56, 1.35],\n",
       "       [1.62, 1.46],\n",
       "       [1.6 , 1.35]])"
      ]
     },
     "execution_count": 21,
     "metadata": {},
     "output_type": "execute_result"
    }
   ],
   "source": [
    "x1"
   ]
  },
  {
   "cell_type": "code",
   "execution_count": 23,
   "id": "298d4d7b",
   "metadata": {},
   "outputs": [
    {
     "data": {
      "text/plain": [
       "(26, 24)"
      ]
     },
     "execution_count": 23,
     "metadata": {},
     "output_type": "execute_result"
    }
   ],
   "source": [
    "x_min,x_max=x1[:,0].min()-1,x1[:,0].max()+1\n",
    "y_min,y_max=x1[:,1].min()-1,x1[:,1].max()+1\n",
    "xx,yy=np.meshgrid(np.arange(x_min,x_max,0.2),np.arange(y_min,y_max,0.2))\n",
    "xx.shape"
   ]
  },
  {
   "cell_type": "code",
   "execution_count": 24,
   "id": "984a44cb",
   "metadata": {},
   "outputs": [],
   "source": [
    "titles=['SVC with linear kernel',\n",
    "       'LinearSVC (linear kernel)',\n",
    "       'SVC eith RBF kernel',\n",
    "       'SVC with polynomial(degree 3) kernel']"
   ]
  },
  {
   "cell_type": "code",
   "execution_count": 29,
   "id": "8d34ab05",
   "metadata": {},
   "outputs": [
    {
     "data": {
      "image/png": "[encoded data removed]",
      "text/plain": [
       "<Figure size 640x480 with 4 Axes>"
      ]
     },
     "metadata": {},
     "output_type": "display_data"
    }
   ],
   "source": [
    "for i,clf in enumerate((svc,svc_lin,svc_rbf,svc_poly)):\n",
    "    plt.subplot(2,2,i+1)\n",
    "    plt.subplots_adjust(wspace=0.4,hspace=0.4)\n",
    "    z=clf.predict(np.c_[xx.ravel(),yy.ravel()])\n",
    "#     print(z.shape)\n",
    "    z=z.reshape(xx.shape)\n",
    "#     print(z.shape)\n",
    "    plt.contourf(xx,yy,z,cmap=plt.cm.coolwarm)\n",
    "    plt.scatter(x1[:,0],x1[:,1],c=y,cmap='hot')\n",
    "    plt.xlabel('proline')\n",
    "    plt.ylabel('Color intensity')\n",
    "    plt.xlim(xx.min(),xx.max())\n",
    "    plt.ylim(yy.min(),yy.max())\n",
    "    plt.title(titles[i])"
   ]
  },
  {
   "cell_type": "code",
   "execution_count": null,
   "id": "e8cfddd6",
   "metadata": {},
   "outputs": [],
   "source": []
  }
 ],
 "metadata": {
  "kernelspec": {
   "display_name": "Python 3 (ipykernel)",
   "language": "python",
   "name": "python3"
  },
  "language_info": {
   "codemirror_mode": {
    "name": "ipython",
    "version": 3
   },
   "file_extension": ".py",
   "mimetype": "text/x-python",
   "name": "python",
   "nbconvert_exporter": "python",
   "pygments_lexer": "ipython3",
   "version": "3.11.5"
  }
 },
 "nbformat": 4,
 "nbformat_minor": 5
}
